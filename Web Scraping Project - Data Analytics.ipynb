{
 "cells": [
  {
   "cell_type": "code",
   "execution_count": 106,
   "id": "991126a8",
   "metadata": {},
   "outputs": [],
   "source": [
    "from bs4 import BeautifulSoup\n",
    "import requests\n",
    "import time\n",
    "import datetime\n",
    "import csv\n",
    "import pandas as pd\n",
    "import smtplib #Used for sending emails"
   ]
  },
  {
   "cell_type": "code",
   "execution_count": 71,
   "id": "47d18d77",
   "metadata": {},
   "outputs": [
    {
     "name": "stdout",
     "output_type": "stream",
     "text": [
      "\n",
      "            Bronson Automatic Brown LiteHide™ Leather Watch\n",
      "           \n",
      "\n",
      "                 $182.00\n",
      "                \n"
     ]
    }
   ],
   "source": [
    "#Connecting to the website\n",
    "#from selenium  import webdriver\n",
    "URL= 'https://www.fossil.com/en-us/products/bronson-automatic-brown-litehide-leather-watch/ME3219.html'\n",
    "\n",
    "headers = {\"User-Agent\": \"Mozilla/5.0 (Windows NT 10.0; Win64; x64) AppleWebKit/537.36 (KHTML, like Gecko) Chrome/78.0.3904.108 Safari/537.36\", \"Accept-Encoding\":\"gzip, deflate\", \"Accept\":\"text/html,application/xhtml+xml,application/xml;q=0.9,*/*;q=0.8\", \"DNT\":\"1\",\"Connection\":\"close\", \"Upgrade-Insecure-Requests\":\"1\"}\n",
    "page = requests.get(URL,headers=headers)\n",
    "soup1=BeautifulSoup(page.content,\"html.parser\")\n",
    "soup2=BeautifulSoup(soup1.prettify(),'html.parser')\n",
    "\n",
    "title = soup2.find(\"h1\", class_=\"product-name\").get_text()\n",
    "\n",
    "price= soup2.find(\"span\", class_=\"value\", itemprop=\"price\").get_text()\n",
    "\n",
    "# print(soup2)\n",
    "print(title)\n",
    "print(price)"
   ]
  },
  {
   "cell_type": "code",
   "execution_count": 3,
   "id": "029137ab",
   "metadata": {},
   "outputs": [],
   "source": [
    "# import requests\n",
    "# from bs4 import BeautifulSoup\n",
    "\n",
    "# # URL of the page\n",
    "# url = \"https://www.fossil.com/en-us/products/bronson-automatic-brown-litehide-leather-watch/ME3219.html\"\n",
    "\n",
    "# # Send an HTTP GET request to the URL\n",
    "# response = requests.get(url)\n",
    "\n",
    "# # Check if the request was successful\n",
    "# if response.status_code == 200:\n",
    "#     # Parse the HTML content of the page\n",
    "#     soup = BeautifulSoup(response.text, \"html.parser\")\n",
    "\n",
    "#     # Find the element with class \"product-name\" and extract the text\n",
    "#     product_name_element = soup.find(\"h1\", class_=\"product-name\")\n",
    "#     if product_name_element:\n",
    "#         product_name = product_name_element.get_text()\n",
    "#         print(product_name)\n",
    "#     else:\n",
    "#         print(\"Product name not found on the page.\")\n",
    "# else:\n",
    "#     print(\"Failed to retrieve the page. Status code:\", response.status_code)"
   ]
  },
  {
   "cell_type": "code",
   "execution_count": 72,
   "id": "6b4797e2",
   "metadata": {},
   "outputs": [
    {
     "name": "stdout",
     "output_type": "stream",
     "text": [
      "Bronson Automatic Brown LiteHide™ Leather Watch\n",
      "182.00\n"
     ]
    }
   ],
   "source": [
    "price=price.strip()[1:]\n",
    "title=title.strip()\n",
    "print(title)\n",
    "print(price)"
   ]
  },
  {
   "cell_type": "code",
   "execution_count": 73,
   "id": "ff3959c5",
   "metadata": {},
   "outputs": [
    {
     "name": "stdout",
     "output_type": "stream",
     "text": [
      "2023-10-11\n"
     ]
    }
   ],
   "source": [
    "date=datetime.date.today()\n",
    "print(date)"
   ]
  },
  {
   "cell_type": "code",
   "execution_count": 51,
   "id": "523a3941",
   "metadata": {},
   "outputs": [],
   "source": [
    "header=['Title','Price','Date']\n",
    "data=[title,price,date]\n",
    "with open('fossilwatchprice.csv','w',newline='',encoding='UTF8') as f:\n",
    "    writer=csv.writer(f)\n",
    "    writer.writerow(header)\n",
    "    writer.writerow(data)"
   ]
  },
  {
   "cell_type": "code",
   "execution_count": 52,
   "id": "e9f2e0ea",
   "metadata": {},
   "outputs": [
    {
     "name": "stdout",
     "output_type": "stream",
     "text": [
      "                                             Title  Price        Date\n",
      "0  Bronson Automatic Brown LiteHide™ Leather Watch  182.0  2023-10-11\n"
     ]
    }
   ],
   "source": [
    "df=pd.read_csv(r\"C:\\Users\\nisha\\Downloads\\Python_Notebooks\\fossilwatchprice.csv\")\n",
    "print(df)"
   ]
  },
  {
   "cell_type": "code",
   "execution_count": 8,
   "id": "ed1fd33c",
   "metadata": {},
   "outputs": [],
   "source": [
    "#Appending data to the csv\n",
    "with open('fossilwatchprice.csv','a+',newline='',encoding='UTF8') as f:\n",
    "    writer=csv.writer(f)\n",
    "    writer.writerow(data)"
   ]
  },
  {
   "cell_type": "markdown",
   "id": "d69c622a",
   "metadata": {},
   "source": [
    "Run the below code to see the results. Above code is the process followed"
   ]
  },
  {
   "cell_type": "code",
   "execution_count": 107,
   "id": "783b4a5b",
   "metadata": {},
   "outputs": [],
   "source": [
    "with open('fossilwatchprice.csv','w',newline='',encoding='UTF8') as f:\n",
    "    writer=csv.writer(f)\n",
    "    writer.writerow(header)"
   ]
  },
  {
   "cell_type": "code",
   "execution_count": 108,
   "id": "e3960597",
   "metadata": {},
   "outputs": [],
   "source": [
    "def check_price():\n",
    "    URL= 'https://www.fossil.com/en-us/products/bronson-automatic-brown-litehide-leather-watch/ME3219.html'\n",
    "\n",
    "    headers = {\"User-Agent\": \"Mozilla/5.0 (Windows NT 10.0; Win64; x64) AppleWebKit/537.36 (KHTML, like Gecko) Chrome/78.0.3904.108 Safari/537.36\", \"Accept-Encoding\":\"gzip, deflate\", \"Accept\":\"text/html,application/xhtml+xml,application/xml;q=0.9,*/*;q=0.8\", \"DNT\":\"1\",\"Connection\":\"close\", \"Upgrade-Insecure-Requests\":\"1\"}\n",
    "    page = requests.get(URL,headers=headers)\n",
    "    soup1=BeautifulSoup(page.content,\"html.parser\")\n",
    "    soup2=BeautifulSoup(soup1.prettify(),'html.parser')\n",
    "\n",
    "    title = soup2.find(\"h1\", class_=\"product-name\").get_text(strip=True)\n",
    "\n",
    "    price= soup2.find(\"span\", class_=\"value\", itemprop=\"price\").get_text(strip=True)\n",
    "    \n",
    "    new_price=price.strip()[1:]\n",
    "    new_title=title.strip()\n",
    "\n",
    "    date=datetime.date.today()\n",
    "    header=['Title','Price','Date']\n",
    "    data=[new_title,new_price,date]\n",
    "    with open('fossilwatchprice.csv','a+',newline='',encoding='UTF8') as f:\n",
    "        writer=csv.writer(f)\n",
    "        writer.writerow(data)\n",
    "#     if (float(new_price) < 100):\n",
    "#         send_mail()\n"
   ]
  },
  {
   "cell_type": "code",
   "execution_count": 109,
   "id": "ab73520a",
   "metadata": {},
   "outputs": [],
   "source": [
    "check_price()"
   ]
  },
  {
   "cell_type": "code",
   "execution_count": 110,
   "id": "c0cf86ff",
   "metadata": {
    "scrolled": true
   },
   "outputs": [
    {
     "ename": "KeyboardInterrupt",
     "evalue": "",
     "output_type": "error",
     "traceback": [
      "\u001b[1;31m---------------------------------------------------------------------------\u001b[0m",
      "\u001b[1;31mKeyboardInterrupt\u001b[0m                         Traceback (most recent call last)",
      "Cell \u001b[1;32mIn[110], line 3\u001b[0m\n\u001b[0;32m      1\u001b[0m \u001b[38;5;28;01mwhile\u001b[39;00m(\u001b[38;5;28;01mTrue\u001b[39;00m):\n\u001b[0;32m      2\u001b[0m     check_price()\n\u001b[1;32m----> 3\u001b[0m     time\u001b[38;5;241m.\u001b[39msleep(\u001b[38;5;241m5\u001b[39m)\n",
      "\u001b[1;31mKeyboardInterrupt\u001b[0m: "
     ]
    }
   ],
   "source": [
    "while(True):\n",
    "    check_price()\n",
    "    time.sleep(5)"
   ]
  },
  {
   "cell_type": "code",
   "execution_count": 111,
   "id": "0143046a",
   "metadata": {
    "scrolled": true
   },
   "outputs": [
    {
     "name": "stdout",
     "output_type": "stream",
     "text": [
      "                                             Title  Price        Date\n",
      "0  Bronson Automatic Brown LiteHide™ Leather Watch  182.0  2023-10-11\n",
      "1  Bronson Automatic Brown LiteHide™ Leather Watch  182.0  2023-10-11\n",
      "2  Bronson Automatic Brown LiteHide™ Leather Watch  182.0  2023-10-11\n"
     ]
    }
   ],
   "source": [
    "df=pd.read_csv(r\"C:\\Users\\nisha\\Downloads\\Python_Notebooks\\fossilwatchprice.csv\")\n",
    "print(df)"
   ]
  },
  {
   "cell_type": "code",
   "execution_count": 103,
   "id": "7fedae5b",
   "metadata": {},
   "outputs": [],
   "source": [
    "import smtplib\n",
    "from email.mime.text import MIMEText\n",
    "from email.mime.multipart import MIMEMultipart\n",
    "\n",
    "def send_mail():\n",
    "    # Set up the SMTP server\n",
    "    server = smtplib.SMTP_SSL('smtp.gmail.com', 465)\n",
    "    server.ehlo()\n",
    "    server.login('nishanthdvr@gmail.com', 'Nishanth@6199')\n",
    "\n",
    "    # Compose the email\n",
    "    subject = \"Fossil Watch Price Dropped!!!!!\"\n",
    "    body = \"Price of the watch you are looking for is dropped. Go and buy it. Here is the link: https://www.fossil.com/en-us/products/bronson-automatic-brown-litehide-leather-watch/ME3219.html\"\n",
    "    \n",
    "    msg = MIMEMultipart()\n",
    "    msg['From'] = 'nishanthdvr@gmail.com'\n",
    "    msg['To'] = 'nishanthdvr@gmail.com'\n",
    "    msg['Subject'] = subject\n",
    "\n",
    "    msg.attach(MIMEText(body, 'plain'))\n",
    "\n",
    "    # Send the email\n",
    "    server.sendmail('nishanthdvr@gmail.com', 'nishanthdvr@gmail.com', msg.as_string())\n",
    "\n",
    "    # Quit the server\n",
    "    server.quit()\n"
   ]
  }
 ],
 "metadata": {
  "kernelspec": {
   "display_name": "Python 3 (ipykernel)",
   "language": "python",
   "name": "python3"
  },
  "language_info": {
   "codemirror_mode": {
    "name": "ipython",
    "version": 3
   },
   "file_extension": ".py",
   "mimetype": "text/x-python",
   "name": "python",
   "nbconvert_exporter": "python",
   "pygments_lexer": "ipython3",
   "version": "3.11.4"
  }
 },
 "nbformat": 4,
 "nbformat_minor": 5
}
